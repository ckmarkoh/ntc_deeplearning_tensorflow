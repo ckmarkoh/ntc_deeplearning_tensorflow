{
 "cells": [
  {
   "cell_type": "markdown",
   "metadata": {},
   "source": [
    "# 模型儲存"
   ]
  },
  {
   "cell_type": "code",
   "execution_count": 1,
   "metadata": {
    "collapsed": false
   },
   "outputs": [],
   "source": [
    "import tensorflow as tf"
   ]
  },
  {
   "cell_type": "code",
   "execution_count": 2,
   "metadata": {
    "collapsed": false
   },
   "outputs": [],
   "source": [
    "x_ = tf.placeholder(tf.float32, [None, 784], name=\"x_\")\n",
    "y_ = tf.placeholder(tf.float32, [None, 10], name=\"y_\")\n",
    "\n",
    "\n",
    "with tf.variable_scope(\"wb\"):\n",
    "    W = tf.get_variable(\"w\", [784, 10],\n",
    "        initializer=tf.random_normal_initializer())\n",
    "    b = tf.get_variable(\"b\", [10],\n",
    "        initializer=tf.random_normal_initializer())\n",
    "    y = tf.nn.softmax(tf.matmul(x_, W) + b)\n",
    "\n",
    "\n",
    "with tf.variable_scope(\"cross_entropy\") as scope:\n",
    "    cross_entropy = -tf.reduce_sum(y_ * tf.log(y))\n",
    "\n",
    "with tf.variable_scope(\"trainer\") as scope:\n",
    "    optimizer = tf.train.GradientDescentOptimizer(0.01)\n",
    "    trainer = optimizer.minimize(cross_entropy)\n",
    "\n",
    "with tf.variable_scope(\"evaluator\") as scope:\n",
    "    correct_prediction = tf.equal(tf.argmax(y, 1), tf.argmax(y_, 1))\n",
    "    accuracy = tf.reduce_mean(tf.cast(correct_prediction, tf.float32))\n",
    "\n"
   ]
  },
  {
   "cell_type": "markdown",
   "metadata": {},
   "source": [
    "## global Step"
   ]
  },
  {
   "cell_type": "code",
   "execution_count": 3,
   "metadata": {
    "collapsed": true
   },
   "outputs": [],
   "source": [
    "global_step = tf.Variable(0, name=\"global_step\", trainable=False)"
   ]
  },
  {
   "cell_type": "markdown",
   "metadata": {},
   "source": [
    "## saver"
   ]
  },
  {
   "cell_type": "code",
   "execution_count": 4,
   "metadata": {
    "collapsed": true
   },
   "outputs": [],
   "source": [
    "saver = tf.train.Saver()"
   ]
  },
  {
   "cell_type": "code",
   "execution_count": 5,
   "metadata": {
    "collapsed": false
   },
   "outputs": [
    {
     "name": "stdout",
     "output_type": "stream",
     "text": [
      "Extracting MNIST_data/train-images-idx3-ubyte.gz\n",
      "Extracting MNIST_data/train-labels-idx1-ubyte.gz\n",
      "Extracting MNIST_data/t10k-images-idx3-ubyte.gz\n",
      "Extracting MNIST_data/t10k-labels-idx1-ubyte.gz\n"
     ]
    }
   ],
   "source": [
    "import input_data\n",
    "\n",
    "mnist = input_data.read_data_sets('MNIST_data', one_hot=True)"
   ]
  },
  {
   "cell_type": "code",
   "execution_count": 6,
   "metadata": {
    "collapsed": true
   },
   "outputs": [],
   "source": [
    "with tf.name_scope(\"initializer\") as scope:\n",
    "    init = tf.initialize_all_variables()\n",
    "\n",
    "sess = tf.Session()\n",
    "sess.run(init)\n"
   ]
  },
  {
   "cell_type": "markdown",
   "metadata": {},
   "source": [
    "## add to collection"
   ]
  },
  {
   "cell_type": "code",
   "execution_count": 7,
   "metadata": {
    "collapsed": true
   },
   "outputs": [],
   "source": [
    "tf.add_to_collection('trainer', trainer)\n",
    "tf.add_to_collection('accuracy', accuracy)\n",
    "tf.add_to_collection('x_', x_)\n",
    "tf.add_to_collection('y_', y_)\n",
    "tf.add_to_collection('global_step', global_step)\n"
   ]
  },
  {
   "cell_type": "code",
   "execution_count": 8,
   "metadata": {
    "collapsed": false
   },
   "outputs": [
    {
     "name": "stdout",
     "output_type": "stream",
     "text": [
      "0, 0.1245\n",
      "20, 0.5881\n",
      "40, 0.692\n",
      "60, 0.7523\n",
      "80, 0.7778\n",
      "100, 0.7996\n",
      "120, 0.8166\n",
      "140, 0.8288\n",
      "160, 0.8291\n",
      "180, 0.8358\n",
      "200, 0.8409\n"
     ]
    }
   ],
   "source": [
    "#meta_graph_def = tf.train.export_meta_graph(filename='my_model.meta')\n",
    "\n",
    "final_step = 1001\n",
    "for i in range(sess.run(global_step), final_step):\n",
    "    batch_xs, batch_ys = mnist.train.next_batch(100)\n",
    "    sess.run(trainer,  feed_dict={x_: batch_xs, y_: batch_ys})\n",
    "    sess.run(tf.assign(global_step, i))\n",
    "    if i%20 == 0:\n",
    "        print \"%s, %s\" %(i, (sess.run(accuracy, feed_dict={x_: mnist.test.images, y_: mnist.test.labels})))\n",
    "        saver.save(sess, 'my_model.ckpt', global_step=global_step)\n",
    "        if i == 200:\n",
    "            break"
   ]
  },
  {
   "cell_type": "code",
   "execution_count": null,
   "metadata": {
    "collapsed": true
   },
   "outputs": [],
   "source": []
  },
  {
   "cell_type": "code",
   "execution_count": null,
   "metadata": {
    "collapsed": true
   },
   "outputs": [],
   "source": []
  },
  {
   "cell_type": "code",
   "execution_count": null,
   "metadata": {
    "collapsed": true
   },
   "outputs": [],
   "source": []
  }
 ],
 "metadata": {
  "kernelspec": {
   "display_name": "Python 2",
   "language": "python",
   "name": "python2"
  },
  "language_info": {
   "codemirror_mode": {
    "name": "ipython",
    "version": 2
   },
   "file_extension": ".py",
   "mimetype": "text/x-python",
   "name": "python",
   "nbconvert_exporter": "python",
   "pygments_lexer": "ipython2",
   "version": "2.7.12"
  }
 },
 "nbformat": 4,
 "nbformat_minor": 0
}
