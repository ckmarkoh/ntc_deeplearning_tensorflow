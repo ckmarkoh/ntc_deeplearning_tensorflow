{
 "cells": [
  {
   "cell_type": "markdown",
   "metadata": {},
   "source": [
    "# tf.contrib.learn"
   ]
  },
  {
   "cell_type": "code",
   "execution_count": 1,
   "metadata": {
    "collapsed": true
   },
   "outputs": [],
   "source": [
    "import tensorflow as tf\n",
    "import numpy as np\n"
   ]
  },
  {
   "cell_type": "markdown",
   "metadata": {},
   "source": [
    "## Load datasets\n"
   ]
  },
  {
   "cell_type": "code",
   "execution_count": 4,
   "metadata": {
    "collapsed": true
   },
   "outputs": [],
   "source": [
    "IRIS_TRAINING = \"iris_training.csv\"\n",
    "IRIS_TEST = \"iris_test.csv\"\n",
    "\n",
    "training_set = tf.contrib.learn.datasets.base.load_csv(filename=IRIS_TRAINING, target_dtype=np.int)\n",
    "test_set = tf.contrib.learn.datasets.base.load_csv(filename=IRIS_TEST, target_dtype=np.int)\n",
    "\n",
    "x_train, x_test, y_train, y_test = training_set.data, test_set.data, \\\n",
    "  training_set.target, test_set.target\n"
   ]
  },
  {
   "cell_type": "code",
   "execution_count": 9,
   "metadata": {
    "collapsed": false,
    "scrolled": true
   },
   "outputs": [
    {
     "data": {
      "text/plain": [
       "array([[ 6.4,  2.8,  5.6,  2.2],\n",
       "       [ 5. ,  2.3,  3.3,  1. ],\n",
       "       [ 4.9,  2.5,  4.5,  1.7],\n",
       "       [ 4.9,  3.1,  1.5,  0.1],\n",
       "       [ 5.7,  3.8,  1.7,  0.3],\n",
       "       [ 4.4,  3.2,  1.3,  0.2],\n",
       "       [ 5.4,  3.4,  1.5,  0.4],\n",
       "       [ 6.9,  3.1,  5.1,  2.3],\n",
       "       [ 6.7,  3.1,  4.4,  1.4],\n",
       "       [ 5.1,  3.7,  1.5,  0.4],\n",
       "       [ 5.2,  2.7,  3.9,  1.4],\n",
       "       [ 6.9,  3.1,  4.9,  1.5],\n",
       "       [ 5.8,  4. ,  1.2,  0.2],\n",
       "       [ 5.4,  3.9,  1.7,  0.4],\n",
       "       [ 7.7,  3.8,  6.7,  2.2],\n",
       "       [ 6.3,  3.3,  4.7,  1.6],\n",
       "       [ 6.8,  3.2,  5.9,  2.3],\n",
       "       [ 7.6,  3. ,  6.6,  2.1],\n",
       "       [ 6.4,  3.2,  5.3,  2.3],\n",
       "       [ 5.7,  4.4,  1.5,  0.4],\n",
       "       [ 6.7,  3.3,  5.7,  2.1],\n",
       "       [ 6.4,  2.8,  5.6,  2.1],\n",
       "       [ 5.4,  3.9,  1.3,  0.4],\n",
       "       [ 6.1,  2.6,  5.6,  1.4],\n",
       "       [ 7.2,  3. ,  5.8,  1.6],\n",
       "       [ 5.2,  3.5,  1.5,  0.2],\n",
       "       [ 5.8,  2.6,  4. ,  1.2],\n",
       "       [ 5.9,  3. ,  5.1,  1.8],\n",
       "       [ 5.4,  3. ,  4.5,  1.5],\n",
       "       [ 6.7,  3. ,  5. ,  1.7],\n",
       "       [ 6.3,  2.3,  4.4,  1.3],\n",
       "       [ 5.1,  2.5,  3. ,  1.1],\n",
       "       [ 6.4,  3.2,  4.5,  1.5],\n",
       "       [ 6.8,  3. ,  5.5,  2.1],\n",
       "       [ 6.2,  2.8,  4.8,  1.8],\n",
       "       [ 6.9,  3.2,  5.7,  2.3],\n",
       "       [ 6.5,  3.2,  5.1,  2. ],\n",
       "       [ 5.8,  2.8,  5.1,  2.4],\n",
       "       [ 5.1,  3.8,  1.5,  0.3],\n",
       "       [ 4.8,  3. ,  1.4,  0.3],\n",
       "       [ 7.9,  3.8,  6.4,  2. ],\n",
       "       [ 5.8,  2.7,  5.1,  1.9],\n",
       "       [ 6.7,  3. ,  5.2,  2.3],\n",
       "       [ 5.1,  3.8,  1.9,  0.4],\n",
       "       [ 4.7,  3.2,  1.6,  0.2],\n",
       "       [ 6. ,  2.2,  5. ,  1.5],\n",
       "       [ 4.8,  3.4,  1.6,  0.2],\n",
       "       [ 7.7,  2.6,  6.9,  2.3],\n",
       "       [ 4.6,  3.6,  1. ,  0.2],\n",
       "       [ 7.2,  3.2,  6. ,  1.8],\n",
       "       [ 5. ,  3.3,  1.4,  0.2],\n",
       "       [ 6.6,  3. ,  4.4,  1.4],\n",
       "       [ 6.1,  2.8,  4. ,  1.3],\n",
       "       [ 5. ,  3.2,  1.2,  0.2],\n",
       "       [ 7. ,  3.2,  4.7,  1.4],\n",
       "       [ 6. ,  3. ,  4.8,  1.8],\n",
       "       [ 7.4,  2.8,  6.1,  1.9],\n",
       "       [ 5.8,  2.7,  5.1,  1.9],\n",
       "       [ 6.2,  3.4,  5.4,  2.3],\n",
       "       [ 5. ,  2. ,  3.5,  1. ],\n",
       "       [ 5.6,  2.5,  3.9,  1.1],\n",
       "       [ 6.7,  3.1,  5.6,  2.4],\n",
       "       [ 6.3,  2.5,  5. ,  1.9],\n",
       "       [ 6.4,  3.1,  5.5,  1.8],\n",
       "       [ 6.2,  2.2,  4.5,  1.5],\n",
       "       [ 7.3,  2.9,  6.3,  1.8],\n",
       "       [ 4.4,  3. ,  1.3,  0.2],\n",
       "       [ 7.2,  3.6,  6.1,  2.5],\n",
       "       [ 6.5,  3. ,  5.5,  1.8],\n",
       "       [ 5. ,  3.4,  1.5,  0.2],\n",
       "       [ 4.7,  3.2,  1.3,  0.2],\n",
       "       [ 6.6,  2.9,  4.6,  1.3],\n",
       "       [ 5.5,  3.5,  1.3,  0.2],\n",
       "       [ 7.7,  3. ,  6.1,  2.3],\n",
       "       [ 6.1,  3. ,  4.9,  1.8],\n",
       "       [ 4.9,  3.1,  1.5,  0.1],\n",
       "       [ 5.5,  2.4,  3.8,  1.1],\n",
       "       [ 5.7,  2.9,  4.2,  1.3],\n",
       "       [ 6. ,  2.9,  4.5,  1.5],\n",
       "       [ 6.4,  2.7,  5.3,  1.9],\n",
       "       [ 5.4,  3.7,  1.5,  0.2],\n",
       "       [ 6.1,  2.9,  4.7,  1.4],\n",
       "       [ 6.5,  2.8,  4.6,  1.5],\n",
       "       [ 5.6,  2.7,  4.2,  1.3],\n",
       "       [ 6.3,  3.4,  5.6,  2.4],\n",
       "       [ 4.9,  3.1,  1.5,  0.1],\n",
       "       [ 6.8,  2.8,  4.8,  1.4],\n",
       "       [ 5.7,  2.8,  4.5,  1.3],\n",
       "       [ 6. ,  2.7,  5.1,  1.6],\n",
       "       [ 5. ,  3.5,  1.3,  0.3],\n",
       "       [ 6.5,  3. ,  5.2,  2. ],\n",
       "       [ 6.1,  2.8,  4.7,  1.2],\n",
       "       [ 5.1,  3.5,  1.4,  0.3],\n",
       "       [ 4.6,  3.1,  1.5,  0.2],\n",
       "       [ 6.5,  3. ,  5.8,  2.2],\n",
       "       [ 4.6,  3.4,  1.4,  0.3],\n",
       "       [ 4.6,  3.2,  1.4,  0.2],\n",
       "       [ 7.7,  2.8,  6.7,  2. ],\n",
       "       [ 5.9,  3.2,  4.8,  1.8],\n",
       "       [ 5.1,  3.8,  1.6,  0.2],\n",
       "       [ 4.9,  3. ,  1.4,  0.2],\n",
       "       [ 4.9,  2.4,  3.3,  1. ],\n",
       "       [ 4.5,  2.3,  1.3,  0.3],\n",
       "       [ 5.8,  2.7,  4.1,  1. ],\n",
       "       [ 5. ,  3.4,  1.6,  0.4],\n",
       "       [ 5.2,  3.4,  1.4,  0.2],\n",
       "       [ 5.3,  3.7,  1.5,  0.2],\n",
       "       [ 5. ,  3.6,  1.4,  0.2],\n",
       "       [ 5.6,  2.9,  3.6,  1.3],\n",
       "       [ 4.8,  3.1,  1.6,  0.2],\n",
       "       [ 6.3,  2.7,  4.9,  1.8],\n",
       "       [ 5.7,  2.8,  4.1,  1.3],\n",
       "       [ 5. ,  3. ,  1.6,  0.2],\n",
       "       [ 6.3,  3.3,  6. ,  2.5],\n",
       "       [ 5. ,  3.5,  1.6,  0.6],\n",
       "       [ 5.5,  2.6,  4.4,  1.2],\n",
       "       [ 5.7,  3. ,  4.2,  1.2],\n",
       "       [ 4.4,  2.9,  1.4,  0.2],\n",
       "       [ 4.8,  3. ,  1.4,  0.1],\n",
       "       [ 5.5,  2.4,  3.7,  1. ]])"
      ]
     },
     "execution_count": 9,
     "metadata": {},
     "output_type": "execute_result"
    }
   ],
   "source": [
    "x_train"
   ]
  },
  {
   "cell_type": "code",
   "execution_count": 10,
   "metadata": {
    "collapsed": false
   },
   "outputs": [
    {
     "data": {
      "text/plain": [
       "array([2, 1, 2, 0, 0, 0, 0, 2, 1, 0, 1, 1, 0, 0, 2, 1, 2, 2, 2, 0, 2, 2, 0,\n",
       "       2, 2, 0, 1, 2, 1, 1, 1, 1, 1, 2, 2, 2, 2, 2, 0, 0, 2, 2, 2, 0, 0, 2,\n",
       "       0, 2, 0, 2, 0, 1, 1, 0, 1, 2, 2, 2, 2, 1, 1, 2, 2, 2, 1, 2, 0, 2, 2,\n",
       "       0, 0, 1, 0, 2, 2, 0, 1, 1, 1, 2, 0, 1, 1, 1, 2, 0, 1, 1, 1, 0, 2, 1,\n",
       "       0, 0, 2, 0, 0, 2, 1, 0, 0, 1, 0, 1, 0, 0, 0, 0, 1, 0, 2, 1, 0, 2, 0,\n",
       "       1, 1, 0, 0, 1])"
      ]
     },
     "execution_count": 10,
     "metadata": {},
     "output_type": "execute_result"
    }
   ],
   "source": [
    "y_train"
   ]
  },
  {
   "cell_type": "markdown",
   "metadata": {},
   "source": [
    "## Build 3 layer DNN with 10, 20, 10 units respectively."
   ]
  },
  {
   "cell_type": "code",
   "execution_count": 5,
   "metadata": {
    "collapsed": false
   },
   "outputs": [
    {
     "name": "stderr",
     "output_type": "stream",
     "text": [
      "WARNING:tensorflow:Change warning: `feature_columns` will be required after 2016-08-01.\n",
      "Instructions for updating:\n",
      "Pass `tf.contrib.learn.infer_real_valued_columns_from_input(x)` or `tf.contrib.learn.infer_real_valued_columns_from_input_fn(input_fn)` as `feature_columns`, where `x` or `input_fn` is your argument to `fit`, `evaluate`, or `predict`.\n",
      "WARNING:tensorflow:Using temporary folder as model directory: /var/folders/6d/pv3mwfs51_q0c3q55slgkx380000gn/T/tmpMc4axY\n"
     ]
    }
   ],
   "source": [
    "classifier = tf.contrib.learn.DNNClassifier(hidden_units=[10, 20, 10], n_classes=3)\n"
   ]
  },
  {
   "cell_type": "markdown",
   "metadata": {},
   "source": [
    "## Fit model."
   ]
  },
  {
   "cell_type": "code",
   "execution_count": 6,
   "metadata": {
    "collapsed": false
   },
   "outputs": [
    {
     "name": "stderr",
     "output_type": "stream",
     "text": [
      "WARNING:tensorflow:Setting feature info to TensorSignature(dtype=tf.float32, shape=TensorShape([Dimension(None), Dimension(4)]), is_sparse=False)\n",
      "WARNING:tensorflow:Setting targets info to TensorSignature(dtype=tf.int64, shape=TensorShape([Dimension(None)]), is_sparse=False)\n"
     ]
    },
    {
     "data": {
      "text/plain": [
       "DNNClassifier(hidden_units=[10, 20, 10], dropout=None, optimizer=None, feature_columns=None)"
      ]
     },
     "execution_count": 6,
     "metadata": {},
     "output_type": "execute_result"
    }
   ],
   "source": [
    "classifier.fit(x=x_train, y=y_train, steps=200)\n"
   ]
  },
  {
   "cell_type": "markdown",
   "metadata": {},
   "source": [
    "## Evaluate accuracy."
   ]
  },
  {
   "cell_type": "code",
   "execution_count": 7,
   "metadata": {
    "collapsed": false
   },
   "outputs": [
    {
     "name": "stderr",
     "output_type": "stream",
     "text": [
      "WARNING:tensorflow:Given features: Tensor(\"input:0\", shape=(?, 4), dtype=float32), required signatures: TensorSignature(dtype=tf.float32, shape=TensorShape([Dimension(None), Dimension(4)]), is_sparse=False).\n",
      "WARNING:tensorflow:Given targets: Tensor(\"output:0\", shape=(?,), dtype=int64), required signatures: TensorSignature(dtype=tf.int64, shape=TensorShape([Dimension(None)]), is_sparse=False).\n"
     ]
    },
    {
     "name": "stdout",
     "output_type": "stream",
     "text": [
      "Accuracy: 0.966667\n"
     ]
    }
   ],
   "source": [
    "accuracy_score = classifier.evaluate(x=x_test, y=y_test)[\"accuracy\"]\n",
    "print('Accuracy: {0:f}'.format(accuracy_score))"
   ]
  },
  {
   "cell_type": "markdown",
   "metadata": {},
   "source": [
    "## Classify two new flower samples."
   ]
  },
  {
   "cell_type": "code",
   "execution_count": 8,
   "metadata": {
    "collapsed": false
   },
   "outputs": [
    {
     "name": "stdout",
     "output_type": "stream",
     "text": [
      "Predictions: [1 2]\n"
     ]
    }
   ],
   "source": [
    "new_samples = np.array(\n",
    "    [[6.4, 3.2, 4.5, 1.5], [5.8, 3.1, 5.0, 1.7]], dtype=float)\n",
    "y = classifier.predict(new_samples)\n",
    "print ('Predictions: {}'.format(str(y)))"
   ]
  },
  {
   "cell_type": "code",
   "execution_count": null,
   "metadata": {
    "collapsed": true
   },
   "outputs": [],
   "source": []
  }
 ],
 "metadata": {
  "kernelspec": {
   "display_name": "Python 2",
   "language": "python",
   "name": "python2"
  },
  "language_info": {
   "codemirror_mode": {
    "name": "ipython",
    "version": 2
   },
   "file_extension": ".py",
   "mimetype": "text/x-python",
   "name": "python",
   "nbconvert_exporter": "python",
   "pygments_lexer": "ipython2",
   "version": "2.7.12"
  }
 },
 "nbformat": 4,
 "nbformat_minor": 0
}
