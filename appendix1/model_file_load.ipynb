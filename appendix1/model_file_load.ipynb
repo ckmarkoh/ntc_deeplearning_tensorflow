{
 "cells": [
  {
   "cell_type": "markdown",
   "metadata": {},
   "source": [
    "# 模型讀取"
   ]
  },
  {
   "cell_type": "code",
   "execution_count": 1,
   "metadata": {
    "collapsed": true
   },
   "outputs": [],
   "source": [
    "import tensorflow as tf\n"
   ]
  },
  {
   "cell_type": "code",
   "execution_count": 2,
   "metadata": {
    "collapsed": false
   },
   "outputs": [],
   "source": [
    "sess = tf.Session()"
   ]
  },
  {
   "cell_type": "markdown",
   "metadata": {},
   "source": [
    "## load model"
   ]
  },
  {
   "cell_type": "code",
   "execution_count": 3,
   "metadata": {
    "collapsed": false
   },
   "outputs": [],
   "source": [
    "new_saver = tf.train.import_meta_graph('my_model.ckpt-200.meta')\n",
    "new_saver.restore(sess, 'my_model.ckpt-200')\n",
    "# tf.get_collection() returns a list. In this example we only want the\n",
    "# first one.\n"
   ]
  },
  {
   "cell_type": "markdown",
   "metadata": {},
   "source": [
    "## get collection"
   ]
  },
  {
   "cell_type": "code",
   "execution_count": 4,
   "metadata": {
    "collapsed": true
   },
   "outputs": [],
   "source": [
    "trainer = tf.get_collection('trainer')[0]\n",
    "accuracy = tf.get_collection('accuracy')[0]\n",
    "x_ = tf.get_collection('x_')[0]\n",
    "y_ = tf.get_collection('y_')[0]\n",
    "global_step = tf.get_collection('global_step')[0]"
   ]
  },
  {
   "cell_type": "code",
   "execution_count": 5,
   "metadata": {
    "collapsed": false
   },
   "outputs": [
    {
     "name": "stdout",
     "output_type": "stream",
     "text": [
      "Extracting MNIST_data/train-images-idx3-ubyte.gz\n",
      "Extracting MNIST_data/train-labels-idx1-ubyte.gz\n",
      "Extracting MNIST_data/t10k-images-idx3-ubyte.gz\n",
      "Extracting MNIST_data/t10k-labels-idx1-ubyte.gz\n"
     ]
    }
   ],
   "source": [
    "import input_data\n",
    "\n",
    "mnist = input_data.read_data_sets('MNIST_data', one_hot=True)"
   ]
  },
  {
   "cell_type": "code",
   "execution_count": 6,
   "metadata": {
    "collapsed": false
   },
   "outputs": [
    {
     "name": "stdout",
     "output_type": "stream",
     "text": [
      "200, 0.841\n",
      "220, 0.8474\n",
      "240, 0.85\n",
      "260, 0.852\n",
      "280, 0.8491\n",
      "300, 0.8548\n",
      "320, 0.8637\n",
      "340, 0.8652\n",
      "360, 0.856\n",
      "380, 0.8648\n",
      "400, 0.8664\n",
      "420, 0.8683\n",
      "440, 0.8719\n",
      "460, 0.8703\n",
      "480, 0.8709\n",
      "500, 0.8791\n",
      "520, 0.8685\n",
      "540, 0.8723\n",
      "560, 0.8809\n",
      "580, 0.8744\n",
      "600, 0.8719\n",
      "620, 0.8802\n",
      "640, 0.8718\n",
      "660, 0.8847\n",
      "680, 0.8797\n",
      "700, 0.8813\n",
      "720, 0.8812\n",
      "740, 0.8848\n",
      "760, 0.8824\n",
      "780, 0.8768\n",
      "800, 0.8809\n",
      "820, 0.8924\n",
      "840, 0.8844\n",
      "860, 0.886\n",
      "880, 0.8832\n",
      "900, 0.8897\n",
      "920, 0.8827\n",
      "940, 0.8886\n",
      "960, 0.89\n",
      "980, 0.8887\n",
      "1000, 0.8811\n"
     ]
    }
   ],
   "source": [
    "final_step = 1001\n",
    "for i in range(sess.run(global_step), final_step):\n",
    "    batch_xs, batch_ys = mnist.train.next_batch(100)\n",
    "    sess.run(trainer,  feed_dict={x_: batch_xs, y_: batch_ys})\n",
    "    if i%20 == 0:\n",
    "        print \"%s, %s\" %(i, (sess.run(accuracy, feed_dict={x_: mnist.test.images, y_: mnist.test.labels})))\n"
   ]
  },
  {
   "cell_type": "code",
   "execution_count": null,
   "metadata": {
    "collapsed": true
   },
   "outputs": [],
   "source": []
  },
  {
   "cell_type": "code",
   "execution_count": null,
   "metadata": {
    "collapsed": true
   },
   "outputs": [],
   "source": []
  },
  {
   "cell_type": "code",
   "execution_count": null,
   "metadata": {
    "collapsed": true
   },
   "outputs": [],
   "source": []
  }
 ],
 "metadata": {
  "kernelspec": {
   "display_name": "Python 2",
   "language": "python",
   "name": "python2"
  },
  "language_info": {
   "codemirror_mode": {
    "name": "ipython",
    "version": 2
   },
   "file_extension": ".py",
   "mimetype": "text/x-python",
   "name": "python",
   "nbconvert_exporter": "python",
   "pygments_lexer": "ipython2",
   "version": "2.7.12"
  }
 },
 "nbformat": 4,
 "nbformat_minor": 0
}
