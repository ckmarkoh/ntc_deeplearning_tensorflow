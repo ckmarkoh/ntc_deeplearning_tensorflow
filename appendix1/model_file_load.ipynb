{
 "cells": [
  {
   "cell_type": "markdown",
   "metadata": {},
   "source": [
    "# 模型讀取"
   ]
  },
  {
   "cell_type": "code",
   "execution_count": 1,
   "metadata": {
    "collapsed": true
   },
   "outputs": [],
   "source": [
    "import tensorflow as tf\n"
   ]
  },
  {
   "cell_type": "code",
   "execution_count": 2,
   "metadata": {
    "collapsed": false
   },
   "outputs": [],
   "source": [
    "sess = tf.Session()"
   ]
  },
  {
   "cell_type": "markdown",
   "metadata": {},
   "source": [
    "## load model"
   ]
  },
  {
   "cell_type": "code",
   "execution_count": 3,
   "metadata": {
    "collapsed": false
   },
   "outputs": [],
   "source": [
    "new_saver = tf.train.import_meta_graph('my_model.ckpt-200.meta')\n",
    "new_saver.restore(sess, 'my_model.ckpt-200')\n",
    "# tf.get_collection() returns a list. In this example we only want the\n",
    "# first one.\n"
   ]
  },
  {
   "cell_type": "markdown",
   "metadata": {},
   "source": [
    "## get collection"
   ]
  },
  {
   "cell_type": "code",
   "execution_count": 4,
   "metadata": {
    "collapsed": true
   },
   "outputs": [],
   "source": [
    "trainer = tf.get_collection('trainer')[0]\n",
    "accuracy = tf.get_collection('accuracy')[0]\n",
    "x_ = tf.get_collection('x_')[0]\n",
    "y_ = tf.get_collection('y_')[0]\n"
   ]
  },
  {
   "cell_type": "code",
   "execution_count": 5,
   "metadata": {
    "collapsed": false
   },
   "outputs": [
    {
     "name": "stdout",
     "output_type": "stream",
     "text": [
      "Extracting MNIST_data/train-images-idx3-ubyte.gz\n",
      "Extracting MNIST_data/train-labels-idx1-ubyte.gz\n",
      "Extracting MNIST_data/t10k-images-idx3-ubyte.gz\n",
      "Extracting MNIST_data/t10k-labels-idx1-ubyte.gz\n"
     ]
    }
   ],
   "source": [
    "import input_data\n",
    "\n",
    "mnist = input_data.read_data_sets('MNIST_data', one_hot=True)"
   ]
  },
  {
   "cell_type": "code",
   "execution_count": 6,
   "metadata": {
    "collapsed": false
   },
   "outputs": [
    {
     "name": "stdout",
     "output_type": "stream",
     "text": [
      "10, 0.8475\n",
      "20, 0.8404\n",
      "30, 0.8444\n",
      "40, 0.8399\n",
      "50, 0.8447\n",
      "60, 0.8563\n",
      "70, 0.8417\n",
      "80, 0.8429\n",
      "90, 0.857\n",
      "100, 0.8558\n",
      "110, 0.8559\n",
      "120, 0.8617\n",
      "130, 0.8664\n",
      "140, 0.864\n",
      "150, 0.8589\n",
      "160, 0.863\n",
      "170, 0.8712\n",
      "180, 0.8595\n",
      "190, 0.8685\n",
      "200, 0.8643\n"
     ]
    }
   ],
   "source": [
    "for i in range(200):\n",
    "    batch_xs, batch_ys = mnist.train.next_batch(100)\n",
    "    sess.run(trainer,  feed_dict={x_: batch_xs, y_: batch_ys})\n",
    "    if (i+1)%10 == 0:\n",
    "        print \"%s, %s\" %(i+1, (sess.run(accuracy, feed_dict={x_: mnist.test.images, y_: mnist.test.labels})))\n"
   ]
  },
  {
   "cell_type": "code",
   "execution_count": null,
   "metadata": {
    "collapsed": true
   },
   "outputs": [],
   "source": []
  },
  {
   "cell_type": "code",
   "execution_count": null,
   "metadata": {
    "collapsed": true
   },
   "outputs": [],
   "source": []
  },
  {
   "cell_type": "code",
   "execution_count": null,
   "metadata": {
    "collapsed": true
   },
   "outputs": [],
   "source": []
  }
 ],
 "metadata": {
  "kernelspec": {
   "display_name": "Python 2",
   "language": "python",
   "name": "python2"
  },
  "language_info": {
   "codemirror_mode": {
    "name": "ipython",
    "version": 2
   },
   "file_extension": ".py",
   "mimetype": "text/x-python",
   "name": "python",
   "nbconvert_exporter": "python",
   "pygments_lexer": "ipython2",
   "version": "2.7.12"
  }
 },
 "nbformat": 4,
 "nbformat_minor": 0
}
